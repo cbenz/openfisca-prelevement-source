{
 "metadata": {
  "name": ""
 },
 "nbformat": 3,
 "nbformat_minor": 0,
 "worksheets": [
  {
   "cells": [
    {
     "cell_type": "code",
     "collapsed": false,
     "input": [
      "from __future__ import division\n",
      "import collections\n",
      "from itertools import chain\n",
      "import json\n",
      "from pprint import pprint\n",
      "import urllib2\n",
      "\n",
      "def dump(value):\n",
      "    print json.dumps(value, ensure_ascii = False, encoding = \"utf-8\", indent = 2)\n",
      "\n",
      "percentage = lambda value: u'{:6.2f} %'.format(value)"
     ],
     "language": "python",
     "metadata": {},
     "outputs": [],
     "prompt_number": 2
    },
    {
     "cell_type": "markdown",
     "metadata": {},
     "source": [
      "Valeurs d'entr\u00e9e"
     ]
    },
    {
     "cell_type": "code",
     "collapsed": false,
     "input": [
      "revenus_imposables_groups = [\n",
      "    [\n",
      "        ('sali', 26000),\n",
      "        ('choi', int(26000 * 0.6)),\n",
      "        ('sali', 40000),\n",
      "        ],\n",
      "    [\n",
      "        ('sali', 35000),\n",
      "        ('choi', int(35000 * 0.6)),\n",
      "        ('sali', 25000),\n",
      "        ],\n",
      "    [\n",
      "        ('abnc_impo', 50000),\n",
      "        ('abnc_impo', 15000),\n",
      "        ('abnc_impo', 50000),\n",
      "        ],\n",
      "    [\n",
      "        ('abnc_impo', 50000),\n",
      "        ('abnc_impo', 5000),\n",
      "        ('abnc_impo', 25000),\n",
      "        ],\n",
      "    ]"
     ],
     "language": "python",
     "metadata": {},
     "outputs": [],
     "prompt_number": 3
    },
    {
     "cell_type": "markdown",
     "metadata": {},
     "source": [
      "Param\u00e8tres de l'API"
     ]
    },
    {
     "cell_type": "code",
     "collapsed": false,
     "input": [
      "make_test_case = lambda column_name, column_value: dict(\n",
      "    familles = [\n",
      "        dict(\n",
      "            parents = ['ind0'],\n",
      "            ),\n",
      "        ],\n",
      "    foyers_fiscaux = [\n",
      "        dict(\n",
      "            declarants = ['ind0'],\n",
      "            ),\n",
      "        ],\n",
      "    individus = [\n",
      "        {\n",
      "            'activite': u'Actif occup\u00e9',\n",
      "            'birth': 1970,\n",
      "            'cadre': True,\n",
      "            'id': 'ind0',\n",
      "            column_name: column_value,\n",
      "            'statmarit': u'C\u00e9libataire',\n",
      "            },\n",
      "        ],\n",
      "    menages = [\n",
      "        dict(\n",
      "            personne_de_reference = 'ind0',\n",
      "            ),\n",
      "        ],\n",
      "    )\n",
      "\n",
      "test_cases = list(\n",
      "    make_test_case(column_name = column_name, column_value = column_value)\n",
      "    for revenus_imposables in revenus_imposables_groups\n",
      "    for column_name, column_value in revenus_imposables\n",
      "    )\n",
      "\n",
      "scenarios = [\n",
      "    {\n",
      "        'test_case': test_case,\n",
      "        'year': 2013,\n",
      "        }\n",
      "    for test_case in test_cases\n",
      "    ]\n",
      "\n",
      "simulation = dict(\n",
      "    decomposition = [\n",
      "        {'code': 'irpp', 'title': 'IRPP'},\n",
      "        ],\n",
      "    scenarios = scenarios,\n",
      "    )\n",
      "\n",
      "# dump(simulation)"
     ],
     "language": "python",
     "metadata": {},
     "outputs": [],
     "prompt_number": 4
    },
    {
     "cell_type": "markdown",
     "metadata": {},
     "source": [
      "Appel de l'API"
     ]
    },
    {
     "cell_type": "code",
     "collapsed": false,
     "input": [
      "request = urllib2.Request('http://api.openfisca.fr/api/1/simulate', headers = {\n",
      "    'Content-Type': 'application/json',\n",
      "    'User-Agent': 'OpenFisca-Notebook',\n",
      "    })\n",
      "try:\n",
      "    response = urllib2.urlopen(request, json.dumps(simulation))\n",
      "except urllib2.HTTPError as response:\n",
      "    print response.read()\n",
      "    raise\n",
      "response_text = response.read()\n",
      "response_dict = json.loads(response_text, object_pairs_hook = collections.OrderedDict)\n",
      "variables = response_dict['value']\n",
      "dump(variables)"
     ],
     "language": "python",
     "metadata": {},
     "outputs": [
      {
       "output_type": "stream",
       "stream": "stdout",
       "text": [
        "[\n",
        "  {\n",
        "    \"code\": \"irpp\", \n",
        "    \"values\": [\n",
        "      -1926.15966796875, \n",
        "      -415.6400146484375, \n",
        "      -5189.2001953125, \n",
        "      -3839.199951171875, \n",
        "      -1296.1600341796875, \n",
        "      -1800.1600341796875, \n",
        "      -9389.2001953125, \n",
        "      -617.239990234375, \n",
        "      -9389.2001953125, \n",
        "      -9389.2001953125, \n",
        "      0.0, \n",
        "      -2150.159912109375\n",
        "    ], \n",
        "    \"title\": \"IRPP\"\n",
        "  }\n",
        "]\n"
       ]
      },
      {
       "output_type": "stream",
       "stream": "stdout",
       "text": [
        "[\n",
        "  {\n",
        "    \"code\": \"irpp\", \n",
        "    \"values\": [\n",
        "      -1926.15966796875, \n",
        "      -415.6400146484375, \n",
        "      -5189.2001953125, \n",
        "      -3839.199951171875, \n",
        "      -1296.1600341796875, \n",
        "      -1800.1600341796875, \n",
        "      -9389.2001953125, \n",
        "      -617.239990234375, \n",
        "      -9389.2001953125, \n",
        "      -9389.2001953125, \n",
        "      0.0, \n",
        "      -2150.159912109375\n",
        "    ], \n",
        "    \"title\": \"IRPP\"\n",
        "  }\n",
        "]\n"
       ]
      }
     ],
     "prompt_number": 6
    },
    {
     "cell_type": "markdown",
     "metadata": {},
     "source": [
      "IRPP \u00e0 la source"
     ]
    },
    {
     "cell_type": "code",
     "collapsed": false,
     "input": [
      "api_irpp_values = variables[0]['values']\n",
      "\n",
      "irpp_source_groups = []\n",
      "count = 0\n",
      "for revenus_imposables in revenus_imposables_groups:\n",
      "    irpp_source_groups.append([abs(value) for value in api_irpp_values[count:count + len(revenus_imposables)]])\n",
      "    count += len(revenus_imposables)\n",
      "\n",
      "# pprint(revenus_imposables_groups)\n",
      "dump(irpp_source_groups)"
     ],
     "language": "python",
     "metadata": {},
     "outputs": [
      {
       "output_type": "stream",
       "stream": "stdout",
       "text": [
        "[\n",
        "  [\n",
        "    1926.15966796875, \n",
        "    415.6400146484375, \n",
        "    5189.2001953125\n",
        "  ], \n",
        "  [\n",
        "    3839.199951171875, \n",
        "    1296.1600341796875, \n",
        "    1800.1600341796875\n",
        "  ], \n",
        "  [\n",
        "    9389.2001953125, \n",
        "    617.239990234375, \n",
        "    9389.2001953125\n",
        "  ], \n",
        "  [\n",
        "    9389.2001953125, \n",
        "    0.0, \n",
        "    2150.159912109375\n",
        "  ]\n",
        "]\n"
       ]
      }
     ],
     "prompt_number": 13
    },
    {
     "cell_type": "markdown",
     "metadata": {},
     "source": [
      "IRPP d\u00e9cal\u00e9s N - 1"
     ]
    },
    {
     "cell_type": "code",
     "collapsed": false,
     "input": [
      "irpp_decales_groups = [\n",
      "    [irpp_source_groups[x][0]] + \\\n",
      "    [\n",
      "        irpp_source_groups[x][y]\n",
      "        for y in range(len(revenus_imposables) - 1)\n",
      "        ]\n",
      "    for x, revenus_imposables in enumerate(revenus_imposables_groups)\n",
      "    ]\n",
      "# pprint(revenus_imposables_groups)\n",
      "dump(irpp_decales_groups)"
     ],
     "language": "python",
     "metadata": {},
     "outputs": [
      {
       "output_type": "stream",
       "stream": "stdout",
       "text": [
        "[\n",
        "  [\n",
        "    1926.15966796875, \n",
        "    1926.15966796875, \n",
        "    415.6400146484375\n",
        "  ], \n",
        "  [\n",
        "    3839.199951171875, \n",
        "    3839.199951171875, \n",
        "    1296.1600341796875\n",
        "  ], \n",
        "  [\n",
        "    9389.2001953125, \n",
        "    9389.2001953125, \n",
        "    617.239990234375\n",
        "  ], \n",
        "  [\n",
        "    9389.2001953125, \n",
        "    9389.2001953125, \n",
        "    0.0\n",
        "  ]\n",
        "]\n"
       ]
      }
     ],
     "prompt_number": 15
    },
    {
     "cell_type": "markdown",
     "metadata": {},
     "source": [
      "Taux moyen \u00e0 la source"
     ]
    },
    {
     "cell_type": "code",
     "collapsed": false,
     "input": [
      "taux_moyens_source_groups = [\n",
      "    [\n",
      "        (irpp_source_groups[x][y] / column_value) * 100\n",
      "        for y, (column_name, column_value) in enumerate(revenus_imposables)\n",
      "        ]\n",
      "    for x, revenus_imposables in enumerate(revenus_imposables_groups)\n",
      "    ]\n",
      "# pprint(revenus_imposables_groups)\n",
      "dump(taux_moyens_source_groups)"
     ],
     "language": "python",
     "metadata": {},
     "outputs": [
      {
       "output_type": "stream",
       "stream": "stdout",
       "text": [
        "[\n",
        "  [\n",
        "    7.408306415264423, \n",
        "    2.664359068259215, \n",
        "    12.97300048828125\n",
        "  ], \n",
        "  [\n",
        "    10.969142717633929, \n",
        "    6.172190638950893, \n",
        "    7.20064013671875\n",
        "  ], \n",
        "  [\n",
        "    18.778400390625, \n",
        "    4.114933268229167, \n",
        "    18.778400390625\n",
        "  ], \n",
        "  [\n",
        "    18.778400390625, \n",
        "    0.0, \n",
        "    8.6006396484375\n",
        "  ]\n",
        "]\n"
       ]
      }
     ],
     "prompt_number": 17
    },
    {
     "cell_type": "markdown",
     "metadata": {},
     "source": [
      "Taux moyens d\u00e9cal\u00e9s ann\u00e9e N - 1"
     ]
    },
    {
     "cell_type": "code",
     "collapsed": false,
     "input": [
      "taux_moyens_decales_groups = [\n",
      "    [taux_moyens_source_groups[x][0]] + \\\n",
      "    [\n",
      "        (irpp_source_groups[x][y] / revenus_imposables[y + 1][1]) * 100\n",
      "        for y in range(len(revenus_imposables) - 1)\n",
      "        ]\n",
      "    for x, revenus_imposables in enumerate(revenus_imposables_groups)\n",
      "    ]\n",
      "# pprint(revenus_imposables_groups)\n",
      "dump(taux_moyens_decales_groups)"
     ],
     "language": "python",
     "metadata": {},
     "outputs": [
      {
       "output_type": "stream",
       "stream": "stdout",
       "text": [
        "[\n",
        "  [\n",
        "    7.408306415264423, \n",
        "    12.347177358774038, \n",
        "    1.0391000366210938\n",
        "  ], \n",
        "  [\n",
        "    10.969142717633929, \n",
        "    18.28190452938988, \n",
        "    5.18464013671875\n",
        "  ], \n",
        "  [\n",
        "    18.778400390625, \n",
        "    62.594667968749995, \n",
        "    1.23447998046875\n",
        "  ], \n",
        "  [\n",
        "    18.778400390625, \n",
        "    187.78400390625, \n",
        "    0.0\n",
        "  ]\n",
        "]\n"
       ]
      }
     ],
     "prompt_number": 19
    },
    {
     "cell_type": "markdown",
     "metadata": {},
     "source": [
      "Diff\u00e9rence entre les taux moyens d\u00e9cal\u00e9s et les taux moyens \u00e0 la source"
     ]
    },
    {
     "cell_type": "code",
     "collapsed": false,
     "input": [
      "taux_moyens_diff_groups = [\n",
      "    [\n",
      "        taux_moyen_decale - taux_moyen_source\n",
      "        for taux_moyen_source, taux_moyen_decale in zip(taux_moyens_source, taux_moyens_decales)\n",
      "        ]\n",
      "    for taux_moyens_source, taux_moyens_decales in zip(taux_moyens_source_groups, taux_moyens_decales_groups)\n",
      "    ]\n",
      "dump(taux_moyens_diff_groups)"
     ],
     "language": "python",
     "metadata": {},
     "outputs": [
      {
       "output_type": "stream",
       "stream": "stdout",
       "text": [
        "[\n",
        "  [\n",
        "    0.0, \n",
        "    9.682818290514824, \n",
        "    -11.933900451660158\n",
        "  ], \n",
        "  [\n",
        "    0.0, \n",
        "    12.109713890438988, \n",
        "    -2.016\n",
        "  ], \n",
        "  [\n",
        "    0.0, \n",
        "    58.47973470052083, \n",
        "    -17.543920410156247\n",
        "  ], \n",
        "  [\n",
        "    0.0, \n",
        "    187.78400390625, \n",
        "    -8.6006396484375\n",
        "  ]\n",
        "]\n"
       ]
      }
     ],
     "prompt_number": 20
    },
    {
     "cell_type": "code",
     "collapsed": false,
     "input": [
      "dump([\n",
      "    [\n",
      "        revenu_imposable[1]\n",
      "        for revenu_imposable in revenus_imposables\n",
      "        ]\n",
      "    for revenus_imposables in revenus_imposables_groups\n",
      "    ])"
     ],
     "language": "python",
     "metadata": {},
     "outputs": [
      {
       "output_type": "stream",
       "stream": "stdout",
       "text": [
        "[\n",
        "  [\n",
        "    26000, \n",
        "    15600, \n",
        "    40000\n",
        "  ], \n",
        "  [\n",
        "    35000, \n",
        "    21000, \n",
        "    25000\n",
        "  ], \n",
        "  [\n",
        "    50000, \n",
        "    15000, \n",
        "    50000\n",
        "  ], \n",
        "  [\n",
        "    50000, \n",
        "    5000, \n",
        "    25000\n",
        "  ]\n",
        "]\n"
       ]
      }
     ],
     "prompt_number": 21
    }
   ],
   "metadata": {}
  }
 ]
}